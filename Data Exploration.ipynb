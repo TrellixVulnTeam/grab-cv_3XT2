{
 "cells": [
  {
   "cell_type": "code",
   "execution_count": 1,
   "metadata": {},
   "outputs": [],
   "source": [
    "from scipy.io import loadmat\n",
    "import numpy as np"
   ]
  },
  {
   "cell_type": "code",
   "execution_count": 3,
   "metadata": {},
   "outputs": [],
   "source": [
    "mat = loadmat(r'D:\\Desktop\\Grab Computer Vision\\car_devkit\\devkit\\cars_meta.mat')"
   ]
  },
  {
   "cell_type": "code",
   "execution_count": 9,
   "metadata": {},
   "outputs": [
    {
     "data": {
      "text/plain": [
       "dict"
      ]
     },
     "execution_count": 9,
     "metadata": {},
     "output_type": "execute_result"
    }
   ],
   "source": [
    "type(mat)"
   ]
  },
  {
   "cell_type": "code",
   "execution_count": 10,
   "metadata": {},
   "outputs": [
    {
     "data": {
      "text/plain": [
       "dict_keys(['__header__', '__version__', '__globals__', 'class_names'])"
      ]
     },
     "execution_count": 10,
     "metadata": {},
     "output_type": "execute_result"
    }
   ],
   "source": [
    "mat.keys()"
   ]
  },
  {
   "cell_type": "code",
   "execution_count": 11,
   "metadata": {},
   "outputs": [
    {
     "data": {
      "text/plain": [
       "b'MATLAB 5.0 MAT-file, Platform: GLNXA64, Created on: Sat Dec 14 14:13:07 2013'"
      ]
     },
     "execution_count": 11,
     "metadata": {},
     "output_type": "execute_result"
    }
   ],
   "source": [
    "mat['__header__']"
   ]
  },
  {
   "cell_type": "code",
   "execution_count": 12,
   "metadata": {},
   "outputs": [
    {
     "data": {
      "text/plain": [
       "[]"
      ]
     },
     "execution_count": 12,
     "metadata": {},
     "output_type": "execute_result"
    }
   ],
   "source": [
    "mat['__globals__']"
   ]
  },
  {
   "cell_type": "code",
   "execution_count": 14,
   "metadata": {},
   "outputs": [
    {
     "data": {
      "text/plain": [
       "array([[array(['AM General Hummer SUV 2000'], dtype='<U26'),\n",
       "        array(['Acura RL Sedan 2012'], dtype='<U19'),\n",
       "        array(['Acura TL Sedan 2012'], dtype='<U19'),\n",
       "        array(['Acura TL Type-S 2008'], dtype='<U20'),\n",
       "        array(['Acura TSX Sedan 2012'], dtype='<U20'),\n",
       "        array(['Acura Integra Type R 2001'], dtype='<U25'),\n",
       "        array(['Acura ZDX Hatchback 2012'], dtype='<U24'),\n",
       "        array(['Aston Martin V8 Vantage Convertible 2012'], dtype='<U40'),\n",
       "        array(['Aston Martin V8 Vantage Coupe 2012'], dtype='<U34'),\n",
       "        array(['Aston Martin Virage Convertible 2012'], dtype='<U36'),\n",
       "        array(['Aston Martin Virage Coupe 2012'], dtype='<U30'),\n",
       "        array(['Audi RS 4 Convertible 2008'], dtype='<U26'),\n",
       "        array(['Audi A5 Coupe 2012'], dtype='<U18'),\n",
       "        array(['Audi TTS Coupe 2012'], dtype='<U19'),\n",
       "        array(['Audi R8 Coupe 2012'], dtype='<U18'),\n",
       "        array(['Audi V8 Sedan 1994'], dtype='<U18'),\n",
       "        array(['Audi 100 Sedan 1994'], dtype='<U19'),\n",
       "        array(['Audi 100 Wagon 1994'], dtype='<U19'),\n",
       "        array(['Audi TT Hatchback 2011'], dtype='<U22'),\n",
       "        array(['Audi S6 Sedan 2011'], dtype='<U18'),\n",
       "        array(['Audi S5 Convertible 2012'], dtype='<U24'),\n",
       "        array(['Audi S5 Coupe 2012'], dtype='<U18'),\n",
       "        array(['Audi S4 Sedan 2012'], dtype='<U18'),\n",
       "        array(['Audi S4 Sedan 2007'], dtype='<U18'),\n",
       "        array(['Audi TT RS Coupe 2012'], dtype='<U21'),\n",
       "        array(['BMW ActiveHybrid 5 Sedan 2012'], dtype='<U29'),\n",
       "        array(['BMW 1 Series Convertible 2012'], dtype='<U29'),\n",
       "        array(['BMW 1 Series Coupe 2012'], dtype='<U23'),\n",
       "        array(['BMW 3 Series Sedan 2012'], dtype='<U23'),\n",
       "        array(['BMW 3 Series Wagon 2012'], dtype='<U23'),\n",
       "        array(['BMW 6 Series Convertible 2007'], dtype='<U29'),\n",
       "        array(['BMW X5 SUV 2007'], dtype='<U15'),\n",
       "        array(['BMW X6 SUV 2012'], dtype='<U15'),\n",
       "        array(['BMW M3 Coupe 2012'], dtype='<U17'),\n",
       "        array(['BMW M5 Sedan 2010'], dtype='<U17'),\n",
       "        array(['BMW M6 Convertible 2010'], dtype='<U23'),\n",
       "        array(['BMW X3 SUV 2012'], dtype='<U15'),\n",
       "        array(['BMW Z4 Convertible 2012'], dtype='<U23'),\n",
       "        array(['Bentley Continental Supersports Conv. Convertible 2012'],\n",
       "      dtype='<U54'),\n",
       "        array(['Bentley Arnage Sedan 2009'], dtype='<U25'),\n",
       "        array(['Bentley Mulsanne Sedan 2011'], dtype='<U27'),\n",
       "        array(['Bentley Continental GT Coupe 2012'], dtype='<U33'),\n",
       "        array(['Bentley Continental GT Coupe 2007'], dtype='<U33'),\n",
       "        array(['Bentley Continental Flying Spur Sedan 2007'], dtype='<U42'),\n",
       "        array(['Bugatti Veyron 16.4 Convertible 2009'], dtype='<U36'),\n",
       "        array(['Bugatti Veyron 16.4 Coupe 2009'], dtype='<U30'),\n",
       "        array(['Buick Regal GS 2012'], dtype='<U19'),\n",
       "        array(['Buick Rainier SUV 2007'], dtype='<U22'),\n",
       "        array(['Buick Verano Sedan 2012'], dtype='<U23'),\n",
       "        array(['Buick Enclave SUV 2012'], dtype='<U22'),\n",
       "        array(['Cadillac CTS-V Sedan 2012'], dtype='<U25'),\n",
       "        array(['Cadillac SRX SUV 2012'], dtype='<U21'),\n",
       "        array(['Cadillac Escalade EXT Crew Cab 2007'], dtype='<U35'),\n",
       "        array(['Chevrolet Silverado 1500 Hybrid Crew Cab 2012'], dtype='<U45'),\n",
       "        array(['Chevrolet Corvette Convertible 2012'], dtype='<U35'),\n",
       "        array(['Chevrolet Corvette ZR1 2012'], dtype='<U27'),\n",
       "        array(['Chevrolet Corvette Ron Fellows Edition Z06 2007'], dtype='<U47'),\n",
       "        array(['Chevrolet Traverse SUV 2012'], dtype='<U27'),\n",
       "        array(['Chevrolet Camaro Convertible 2012'], dtype='<U33'),\n",
       "        array(['Chevrolet HHR SS 2010'], dtype='<U21'),\n",
       "        array(['Chevrolet Impala Sedan 2007'], dtype='<U27'),\n",
       "        array(['Chevrolet Tahoe Hybrid SUV 2012'], dtype='<U31'),\n",
       "        array(['Chevrolet Sonic Sedan 2012'], dtype='<U26'),\n",
       "        array(['Chevrolet Express Cargo Van 2007'], dtype='<U32'),\n",
       "        array(['Chevrolet Avalanche Crew Cab 2012'], dtype='<U33'),\n",
       "        array(['Chevrolet Cobalt SS 2010'], dtype='<U24'),\n",
       "        array(['Chevrolet Malibu Hybrid Sedan 2010'], dtype='<U34'),\n",
       "        array(['Chevrolet TrailBlazer SS 2009'], dtype='<U29'),\n",
       "        array(['Chevrolet Silverado 2500HD Regular Cab 2012'], dtype='<U43'),\n",
       "        array(['Chevrolet Silverado 1500 Classic Extended Cab 2007'], dtype='<U50'),\n",
       "        array(['Chevrolet Express Van 2007'], dtype='<U26'),\n",
       "        array(['Chevrolet Monte Carlo Coupe 2007'], dtype='<U32'),\n",
       "        array(['Chevrolet Malibu Sedan 2007'], dtype='<U27'),\n",
       "        array(['Chevrolet Silverado 1500 Extended Cab 2012'], dtype='<U42'),\n",
       "        array(['Chevrolet Silverado 1500 Regular Cab 2012'], dtype='<U41'),\n",
       "        array(['Chrysler Aspen SUV 2009'], dtype='<U23'),\n",
       "        array(['Chrysler Sebring Convertible 2010'], dtype='<U33'),\n",
       "        array(['Chrysler Town and Country Minivan 2012'], dtype='<U38'),\n",
       "        array(['Chrysler 300 SRT-8 2010'], dtype='<U23'),\n",
       "        array(['Chrysler Crossfire Convertible 2008'], dtype='<U35'),\n",
       "        array(['Chrysler PT Cruiser Convertible 2008'], dtype='<U36'),\n",
       "        array(['Daewoo Nubira Wagon 2002'], dtype='<U24'),\n",
       "        array(['Dodge Caliber Wagon 2012'], dtype='<U24'),\n",
       "        array(['Dodge Caliber Wagon 2007'], dtype='<U24'),\n",
       "        array(['Dodge Caravan Minivan 1997'], dtype='<U26'),\n",
       "        array(['Dodge Ram Pickup 3500 Crew Cab 2010'], dtype='<U35'),\n",
       "        array(['Dodge Ram Pickup 3500 Quad Cab 2009'], dtype='<U35'),\n",
       "        array(['Dodge Sprinter Cargo Van 2009'], dtype='<U29'),\n",
       "        array(['Dodge Journey SUV 2012'], dtype='<U22'),\n",
       "        array(['Dodge Dakota Crew Cab 2010'], dtype='<U26'),\n",
       "        array(['Dodge Dakota Club Cab 2007'], dtype='<U26'),\n",
       "        array(['Dodge Magnum Wagon 2008'], dtype='<U23'),\n",
       "        array(['Dodge Challenger SRT8 2011'], dtype='<U26'),\n",
       "        array(['Dodge Durango SUV 2012'], dtype='<U22'),\n",
       "        array(['Dodge Durango SUV 2007'], dtype='<U22'),\n",
       "        array(['Dodge Charger Sedan 2012'], dtype='<U24'),\n",
       "        array(['Dodge Charger SRT-8 2009'], dtype='<U24'),\n",
       "        array(['Eagle Talon Hatchback 1998'], dtype='<U26'),\n",
       "        array(['FIAT 500 Abarth 2012'], dtype='<U20'),\n",
       "        array(['FIAT 500 Convertible 2012'], dtype='<U25'),\n",
       "        array(['Ferrari FF Coupe 2012'], dtype='<U21'),\n",
       "        array(['Ferrari California Convertible 2012'], dtype='<U35'),\n",
       "        array(['Ferrari 458 Italia Convertible 2012'], dtype='<U35'),\n",
       "        array(['Ferrari 458 Italia Coupe 2012'], dtype='<U29'),\n",
       "        array(['Fisker Karma Sedan 2012'], dtype='<U23'),\n",
       "        array(['Ford F-450 Super Duty Crew Cab 2012'], dtype='<U35'),\n",
       "        array(['Ford Mustang Convertible 2007'], dtype='<U29'),\n",
       "        array(['Ford Freestar Minivan 2007'], dtype='<U26'),\n",
       "        array(['Ford Expedition EL SUV 2009'], dtype='<U27'),\n",
       "        array(['Ford Edge SUV 2012'], dtype='<U18'),\n",
       "        array(['Ford Ranger SuperCab 2011'], dtype='<U25'),\n",
       "        array(['Ford GT Coupe 2006'], dtype='<U18'),\n",
       "        array(['Ford F-150 Regular Cab 2012'], dtype='<U27'),\n",
       "        array(['Ford F-150 Regular Cab 2007'], dtype='<U27'),\n",
       "        array(['Ford Focus Sedan 2007'], dtype='<U21'),\n",
       "        array(['Ford E-Series Wagon Van 2012'], dtype='<U28'),\n",
       "        array(['Ford Fiesta Sedan 2012'], dtype='<U22'),\n",
       "        array(['GMC Terrain SUV 2012'], dtype='<U20'),\n",
       "        array(['GMC Savana Van 2012'], dtype='<U19'),\n",
       "        array(['GMC Yukon Hybrid SUV 2012'], dtype='<U25'),\n",
       "        array(['GMC Acadia SUV 2012'], dtype='<U19'),\n",
       "        array(['GMC Canyon Extended Cab 2012'], dtype='<U28'),\n",
       "        array(['Geo Metro Convertible 1993'], dtype='<U26'),\n",
       "        array(['HUMMER H3T Crew Cab 2010'], dtype='<U24'),\n",
       "        array(['HUMMER H2 SUT Crew Cab 2009'], dtype='<U27'),\n",
       "        array(['Honda Odyssey Minivan 2012'], dtype='<U26'),\n",
       "        array(['Honda Odyssey Minivan 2007'], dtype='<U26'),\n",
       "        array(['Honda Accord Coupe 2012'], dtype='<U23'),\n",
       "        array(['Honda Accord Sedan 2012'], dtype='<U23'),\n",
       "        array(['Hyundai Veloster Hatchback 2012'], dtype='<U31'),\n",
       "        array(['Hyundai Santa Fe SUV 2012'], dtype='<U25'),\n",
       "        array(['Hyundai Tucson SUV 2012'], dtype='<U23'),\n",
       "        array(['Hyundai Veracruz SUV 2012'], dtype='<U25'),\n",
       "        array(['Hyundai Sonata Hybrid Sedan 2012'], dtype='<U32'),\n",
       "        array(['Hyundai Elantra Sedan 2007'], dtype='<U26'),\n",
       "        array(['Hyundai Accent Sedan 2012'], dtype='<U25'),\n",
       "        array(['Hyundai Genesis Sedan 2012'], dtype='<U26'),\n",
       "        array(['Hyundai Sonata Sedan 2012'], dtype='<U25'),\n",
       "        array(['Hyundai Elantra Touring Hatchback 2012'], dtype='<U38'),\n",
       "        array(['Hyundai Azera Sedan 2012'], dtype='<U24'),\n",
       "        array(['Infiniti G Coupe IPL 2012'], dtype='<U25'),\n",
       "        array(['Infiniti QX56 SUV 2011'], dtype='<U22'),\n",
       "        array(['Isuzu Ascender SUV 2008'], dtype='<U23'),\n",
       "        array(['Jaguar XK XKR 2012'], dtype='<U18'),\n",
       "        array(['Jeep Patriot SUV 2012'], dtype='<U21'),\n",
       "        array(['Jeep Wrangler SUV 2012'], dtype='<U22'),\n",
       "        array(['Jeep Liberty SUV 2012'], dtype='<U21'),\n",
       "        array(['Jeep Grand Cherokee SUV 2012'], dtype='<U28'),\n",
       "        array(['Jeep Compass SUV 2012'], dtype='<U21'),\n",
       "        array(['Lamborghini Reventon Coupe 2008'], dtype='<U31'),\n",
       "        array(['Lamborghini Aventador Coupe 2012'], dtype='<U32'),\n",
       "        array(['Lamborghini Gallardo LP 570-4 Superleggera 2012'], dtype='<U47'),\n",
       "        array(['Lamborghini Diablo Coupe 2001'], dtype='<U29'),\n",
       "        array(['Land Rover Range Rover SUV 2012'], dtype='<U31'),\n",
       "        array(['Land Rover LR2 SUV 2012'], dtype='<U23'),\n",
       "        array(['Lincoln Town Car Sedan 2011'], dtype='<U27'),\n",
       "        array(['MINI Cooper Roadster Convertible 2012'], dtype='<U37'),\n",
       "        array(['Maybach Landaulet Convertible 2012'], dtype='<U34'),\n",
       "        array(['Mazda Tribute SUV 2011'], dtype='<U22'),\n",
       "        array(['McLaren MP4-12C Coupe 2012'], dtype='<U26'),\n",
       "        array(['Mercedes-Benz 300-Class Convertible 1993'], dtype='<U40'),\n",
       "        array(['Mercedes-Benz C-Class Sedan 2012'], dtype='<U32'),\n",
       "        array(['Mercedes-Benz SL-Class Coupe 2009'], dtype='<U33'),\n",
       "        array(['Mercedes-Benz E-Class Sedan 2012'], dtype='<U32'),\n",
       "        array(['Mercedes-Benz S-Class Sedan 2012'], dtype='<U32'),\n",
       "        array(['Mercedes-Benz Sprinter Van 2012'], dtype='<U31'),\n",
       "        array(['Mitsubishi Lancer Sedan 2012'], dtype='<U28'),\n",
       "        array(['Nissan Leaf Hatchback 2012'], dtype='<U26'),\n",
       "        array(['Nissan NV Passenger Van 2012'], dtype='<U28'),\n",
       "        array(['Nissan Juke Hatchback 2012'], dtype='<U26'),\n",
       "        array(['Nissan 240SX Coupe 1998'], dtype='<U23'),\n",
       "        array(['Plymouth Neon Coupe 1999'], dtype='<U24'),\n",
       "        array(['Porsche Panamera Sedan 2012'], dtype='<U27'),\n",
       "        array(['Ram C/V Cargo Van Minivan 2012'], dtype='<U30'),\n",
       "        array(['Rolls-Royce Phantom Drophead Coupe Convertible 2012'],\n",
       "      dtype='<U51'),\n",
       "        array(['Rolls-Royce Ghost Sedan 2012'], dtype='<U28'),\n",
       "        array(['Rolls-Royce Phantom Sedan 2012'], dtype='<U30'),\n",
       "        array(['Scion xD Hatchback 2012'], dtype='<U23'),\n",
       "        array(['Spyker C8 Convertible 2009'], dtype='<U26'),\n",
       "        array(['Spyker C8 Coupe 2009'], dtype='<U20'),\n",
       "        array(['Suzuki Aerio Sedan 2007'], dtype='<U23'),\n",
       "        array(['Suzuki Kizashi Sedan 2012'], dtype='<U25'),\n",
       "        array(['Suzuki SX4 Hatchback 2012'], dtype='<U25'),\n",
       "        array(['Suzuki SX4 Sedan 2012'], dtype='<U21'),\n",
       "        array(['Tesla Model S Sedan 2012'], dtype='<U24'),\n",
       "        array(['Toyota Sequoia SUV 2012'], dtype='<U23'),\n",
       "        array(['Toyota Camry Sedan 2012'], dtype='<U23'),\n",
       "        array(['Toyota Corolla Sedan 2012'], dtype='<U25'),\n",
       "        array(['Toyota 4Runner SUV 2012'], dtype='<U23'),\n",
       "        array(['Volkswagen Golf Hatchback 2012'], dtype='<U30'),\n",
       "        array(['Volkswagen Golf Hatchback 1991'], dtype='<U30'),\n",
       "        array(['Volkswagen Beetle Hatchback 2012'], dtype='<U32'),\n",
       "        array(['Volvo C30 Hatchback 2012'], dtype='<U24'),\n",
       "        array(['Volvo 240 Sedan 1993'], dtype='<U20'),\n",
       "        array(['Volvo XC90 SUV 2007'], dtype='<U19'),\n",
       "        array(['smart fortwo Convertible 2012'], dtype='<U29')]],\n",
       "      dtype=object)"
      ]
     },
     "execution_count": 14,
     "metadata": {},
     "output_type": "execute_result"
    }
   ],
   "source": [
    "mat['class_names']"
   ]
  },
  {
   "cell_type": "code",
   "execution_count": 15,
   "metadata": {},
   "outputs": [
    {
     "data": {
      "text/plain": [
       "numpy.ndarray"
      ]
     },
     "execution_count": 15,
     "metadata": {},
     "output_type": "execute_result"
    }
   ],
   "source": [
    "type(mat['class_names'])"
   ]
  },
  {
   "cell_type": "code",
   "execution_count": 17,
   "metadata": {},
   "outputs": [],
   "source": [
    "class_names = mat['class_names']"
   ]
  },
  {
   "cell_type": "code",
   "execution_count": 18,
   "metadata": {},
   "outputs": [
    {
     "data": {
      "text/plain": [
       "(1, 196)"
      ]
     },
     "execution_count": 18,
     "metadata": {},
     "output_type": "execute_result"
    }
   ],
   "source": [
    "class_names.shape"
   ]
  },
  {
   "cell_type": "code",
   "execution_count": 24,
   "metadata": {},
   "outputs": [
    {
     "data": {
      "text/plain": [
       "array(['AM General Hummer SUV 2000'], dtype='<U26')"
      ]
     },
     "execution_count": 24,
     "metadata": {},
     "output_type": "execute_result"
    }
   ],
   "source": [
    "class_names[0][0]"
   ]
  },
  {
   "cell_type": "code",
   "execution_count": 25,
   "metadata": {},
   "outputs": [
    {
     "data": {
      "text/plain": [
       "'AM General Hummer SUV 2000'"
      ]
     },
     "execution_count": 25,
     "metadata": {},
     "output_type": "execute_result"
    }
   ],
   "source": [
    "class_names[0][0][0] #Seems like this is what we want"
   ]
  },
  {
   "cell_type": "code",
   "execution_count": 30,
   "metadata": {},
   "outputs": [],
   "source": [
    "#Get all the class names\n",
    "class_name_list = []\n",
    "for i in range(196):\n",
    "    class_name_list.append(class_names[0][i][0])"
   ]
  },
  {
   "cell_type": "code",
   "execution_count": 31,
   "metadata": {},
   "outputs": [
    {
     "data": {
      "text/plain": [
       "['AM General Hummer SUV 2000',\n",
       " 'Acura RL Sedan 2012',\n",
       " 'Acura TL Sedan 2012',\n",
       " 'Acura TL Type-S 2008',\n",
       " 'Acura TSX Sedan 2012',\n",
       " 'Acura Integra Type R 2001',\n",
       " 'Acura ZDX Hatchback 2012',\n",
       " 'Aston Martin V8 Vantage Convertible 2012',\n",
       " 'Aston Martin V8 Vantage Coupe 2012',\n",
       " 'Aston Martin Virage Convertible 2012',\n",
       " 'Aston Martin Virage Coupe 2012',\n",
       " 'Audi RS 4 Convertible 2008',\n",
       " 'Audi A5 Coupe 2012',\n",
       " 'Audi TTS Coupe 2012',\n",
       " 'Audi R8 Coupe 2012',\n",
       " 'Audi V8 Sedan 1994',\n",
       " 'Audi 100 Sedan 1994',\n",
       " 'Audi 100 Wagon 1994',\n",
       " 'Audi TT Hatchback 2011',\n",
       " 'Audi S6 Sedan 2011',\n",
       " 'Audi S5 Convertible 2012',\n",
       " 'Audi S5 Coupe 2012',\n",
       " 'Audi S4 Sedan 2012',\n",
       " 'Audi S4 Sedan 2007',\n",
       " 'Audi TT RS Coupe 2012',\n",
       " 'BMW ActiveHybrid 5 Sedan 2012',\n",
       " 'BMW 1 Series Convertible 2012',\n",
       " 'BMW 1 Series Coupe 2012',\n",
       " 'BMW 3 Series Sedan 2012',\n",
       " 'BMW 3 Series Wagon 2012',\n",
       " 'BMW 6 Series Convertible 2007',\n",
       " 'BMW X5 SUV 2007',\n",
       " 'BMW X6 SUV 2012',\n",
       " 'BMW M3 Coupe 2012',\n",
       " 'BMW M5 Sedan 2010',\n",
       " 'BMW M6 Convertible 2010',\n",
       " 'BMW X3 SUV 2012',\n",
       " 'BMW Z4 Convertible 2012',\n",
       " 'Bentley Continental Supersports Conv. Convertible 2012',\n",
       " 'Bentley Arnage Sedan 2009',\n",
       " 'Bentley Mulsanne Sedan 2011',\n",
       " 'Bentley Continental GT Coupe 2012',\n",
       " 'Bentley Continental GT Coupe 2007',\n",
       " 'Bentley Continental Flying Spur Sedan 2007',\n",
       " 'Bugatti Veyron 16.4 Convertible 2009',\n",
       " 'Bugatti Veyron 16.4 Coupe 2009',\n",
       " 'Buick Regal GS 2012',\n",
       " 'Buick Rainier SUV 2007',\n",
       " 'Buick Verano Sedan 2012',\n",
       " 'Buick Enclave SUV 2012',\n",
       " 'Cadillac CTS-V Sedan 2012',\n",
       " 'Cadillac SRX SUV 2012',\n",
       " 'Cadillac Escalade EXT Crew Cab 2007',\n",
       " 'Chevrolet Silverado 1500 Hybrid Crew Cab 2012',\n",
       " 'Chevrolet Corvette Convertible 2012',\n",
       " 'Chevrolet Corvette ZR1 2012',\n",
       " 'Chevrolet Corvette Ron Fellows Edition Z06 2007',\n",
       " 'Chevrolet Traverse SUV 2012',\n",
       " 'Chevrolet Camaro Convertible 2012',\n",
       " 'Chevrolet HHR SS 2010',\n",
       " 'Chevrolet Impala Sedan 2007',\n",
       " 'Chevrolet Tahoe Hybrid SUV 2012',\n",
       " 'Chevrolet Sonic Sedan 2012',\n",
       " 'Chevrolet Express Cargo Van 2007',\n",
       " 'Chevrolet Avalanche Crew Cab 2012',\n",
       " 'Chevrolet Cobalt SS 2010',\n",
       " 'Chevrolet Malibu Hybrid Sedan 2010',\n",
       " 'Chevrolet TrailBlazer SS 2009',\n",
       " 'Chevrolet Silverado 2500HD Regular Cab 2012',\n",
       " 'Chevrolet Silverado 1500 Classic Extended Cab 2007',\n",
       " 'Chevrolet Express Van 2007',\n",
       " 'Chevrolet Monte Carlo Coupe 2007',\n",
       " 'Chevrolet Malibu Sedan 2007',\n",
       " 'Chevrolet Silverado 1500 Extended Cab 2012',\n",
       " 'Chevrolet Silverado 1500 Regular Cab 2012',\n",
       " 'Chrysler Aspen SUV 2009',\n",
       " 'Chrysler Sebring Convertible 2010',\n",
       " 'Chrysler Town and Country Minivan 2012',\n",
       " 'Chrysler 300 SRT-8 2010',\n",
       " 'Chrysler Crossfire Convertible 2008',\n",
       " 'Chrysler PT Cruiser Convertible 2008',\n",
       " 'Daewoo Nubira Wagon 2002',\n",
       " 'Dodge Caliber Wagon 2012',\n",
       " 'Dodge Caliber Wagon 2007',\n",
       " 'Dodge Caravan Minivan 1997',\n",
       " 'Dodge Ram Pickup 3500 Crew Cab 2010',\n",
       " 'Dodge Ram Pickup 3500 Quad Cab 2009',\n",
       " 'Dodge Sprinter Cargo Van 2009',\n",
       " 'Dodge Journey SUV 2012',\n",
       " 'Dodge Dakota Crew Cab 2010',\n",
       " 'Dodge Dakota Club Cab 2007',\n",
       " 'Dodge Magnum Wagon 2008',\n",
       " 'Dodge Challenger SRT8 2011',\n",
       " 'Dodge Durango SUV 2012',\n",
       " 'Dodge Durango SUV 2007',\n",
       " 'Dodge Charger Sedan 2012',\n",
       " 'Dodge Charger SRT-8 2009',\n",
       " 'Eagle Talon Hatchback 1998',\n",
       " 'FIAT 500 Abarth 2012',\n",
       " 'FIAT 500 Convertible 2012',\n",
       " 'Ferrari FF Coupe 2012',\n",
       " 'Ferrari California Convertible 2012',\n",
       " 'Ferrari 458 Italia Convertible 2012',\n",
       " 'Ferrari 458 Italia Coupe 2012',\n",
       " 'Fisker Karma Sedan 2012',\n",
       " 'Ford F-450 Super Duty Crew Cab 2012',\n",
       " 'Ford Mustang Convertible 2007',\n",
       " 'Ford Freestar Minivan 2007',\n",
       " 'Ford Expedition EL SUV 2009',\n",
       " 'Ford Edge SUV 2012',\n",
       " 'Ford Ranger SuperCab 2011',\n",
       " 'Ford GT Coupe 2006',\n",
       " 'Ford F-150 Regular Cab 2012',\n",
       " 'Ford F-150 Regular Cab 2007',\n",
       " 'Ford Focus Sedan 2007',\n",
       " 'Ford E-Series Wagon Van 2012',\n",
       " 'Ford Fiesta Sedan 2012',\n",
       " 'GMC Terrain SUV 2012',\n",
       " 'GMC Savana Van 2012',\n",
       " 'GMC Yukon Hybrid SUV 2012',\n",
       " 'GMC Acadia SUV 2012',\n",
       " 'GMC Canyon Extended Cab 2012',\n",
       " 'Geo Metro Convertible 1993',\n",
       " 'HUMMER H3T Crew Cab 2010',\n",
       " 'HUMMER H2 SUT Crew Cab 2009',\n",
       " 'Honda Odyssey Minivan 2012',\n",
       " 'Honda Odyssey Minivan 2007',\n",
       " 'Honda Accord Coupe 2012',\n",
       " 'Honda Accord Sedan 2012',\n",
       " 'Hyundai Veloster Hatchback 2012',\n",
       " 'Hyundai Santa Fe SUV 2012',\n",
       " 'Hyundai Tucson SUV 2012',\n",
       " 'Hyundai Veracruz SUV 2012',\n",
       " 'Hyundai Sonata Hybrid Sedan 2012',\n",
       " 'Hyundai Elantra Sedan 2007',\n",
       " 'Hyundai Accent Sedan 2012',\n",
       " 'Hyundai Genesis Sedan 2012',\n",
       " 'Hyundai Sonata Sedan 2012',\n",
       " 'Hyundai Elantra Touring Hatchback 2012',\n",
       " 'Hyundai Azera Sedan 2012',\n",
       " 'Infiniti G Coupe IPL 2012',\n",
       " 'Infiniti QX56 SUV 2011',\n",
       " 'Isuzu Ascender SUV 2008',\n",
       " 'Jaguar XK XKR 2012',\n",
       " 'Jeep Patriot SUV 2012',\n",
       " 'Jeep Wrangler SUV 2012',\n",
       " 'Jeep Liberty SUV 2012',\n",
       " 'Jeep Grand Cherokee SUV 2012',\n",
       " 'Jeep Compass SUV 2012',\n",
       " 'Lamborghini Reventon Coupe 2008',\n",
       " 'Lamborghini Aventador Coupe 2012',\n",
       " 'Lamborghini Gallardo LP 570-4 Superleggera 2012',\n",
       " 'Lamborghini Diablo Coupe 2001',\n",
       " 'Land Rover Range Rover SUV 2012',\n",
       " 'Land Rover LR2 SUV 2012',\n",
       " 'Lincoln Town Car Sedan 2011',\n",
       " 'MINI Cooper Roadster Convertible 2012',\n",
       " 'Maybach Landaulet Convertible 2012',\n",
       " 'Mazda Tribute SUV 2011',\n",
       " 'McLaren MP4-12C Coupe 2012',\n",
       " 'Mercedes-Benz 300-Class Convertible 1993',\n",
       " 'Mercedes-Benz C-Class Sedan 2012',\n",
       " 'Mercedes-Benz SL-Class Coupe 2009',\n",
       " 'Mercedes-Benz E-Class Sedan 2012',\n",
       " 'Mercedes-Benz S-Class Sedan 2012',\n",
       " 'Mercedes-Benz Sprinter Van 2012',\n",
       " 'Mitsubishi Lancer Sedan 2012',\n",
       " 'Nissan Leaf Hatchback 2012',\n",
       " 'Nissan NV Passenger Van 2012',\n",
       " 'Nissan Juke Hatchback 2012',\n",
       " 'Nissan 240SX Coupe 1998',\n",
       " 'Plymouth Neon Coupe 1999',\n",
       " 'Porsche Panamera Sedan 2012',\n",
       " 'Ram C/V Cargo Van Minivan 2012',\n",
       " 'Rolls-Royce Phantom Drophead Coupe Convertible 2012',\n",
       " 'Rolls-Royce Ghost Sedan 2012',\n",
       " 'Rolls-Royce Phantom Sedan 2012',\n",
       " 'Scion xD Hatchback 2012',\n",
       " 'Spyker C8 Convertible 2009',\n",
       " 'Spyker C8 Coupe 2009',\n",
       " 'Suzuki Aerio Sedan 2007',\n",
       " 'Suzuki Kizashi Sedan 2012',\n",
       " 'Suzuki SX4 Hatchback 2012',\n",
       " 'Suzuki SX4 Sedan 2012',\n",
       " 'Tesla Model S Sedan 2012',\n",
       " 'Toyota Sequoia SUV 2012',\n",
       " 'Toyota Camry Sedan 2012',\n",
       " 'Toyota Corolla Sedan 2012',\n",
       " 'Toyota 4Runner SUV 2012',\n",
       " 'Volkswagen Golf Hatchback 2012',\n",
       " 'Volkswagen Golf Hatchback 1991',\n",
       " 'Volkswagen Beetle Hatchback 2012',\n",
       " 'Volvo C30 Hatchback 2012',\n",
       " 'Volvo 240 Sedan 1993',\n",
       " 'Volvo XC90 SUV 2007',\n",
       " 'smart fortwo Convertible 2012']"
      ]
     },
     "execution_count": 31,
     "metadata": {},
     "output_type": "execute_result"
    }
   ],
   "source": [
    "#See class names\n",
    "class_name_list"
   ]
  },
  {
   "cell_type": "code",
   "execution_count": 5,
   "metadata": {},
   "outputs": [],
   "source": [
    "mat = loadmat(r'D:\\Desktop\\Grab Computer Vision\\car_devkit\\devkit\\cars_train_annos.mat')"
   ]
  },
  {
   "cell_type": "code",
   "execution_count": 63,
   "metadata": {},
   "outputs": [
    {
     "data": {
      "text/plain": [
       "dict_keys(['__header__', '__version__', '__globals__', 'annotations'])"
      ]
     },
     "execution_count": 63,
     "metadata": {},
     "output_type": "execute_result"
    }
   ],
   "source": [
    "mat.keys()"
   ]
  },
  {
   "cell_type": "code",
   "execution_count": 64,
   "metadata": {},
   "outputs": [
    {
     "data": {
      "text/plain": [
       "numpy.ndarray"
      ]
     },
     "execution_count": 64,
     "metadata": {},
     "output_type": "execute_result"
    }
   ],
   "source": [
    "type(mat['annotations'])"
   ]
  },
  {
   "cell_type": "code",
   "execution_count": 65,
   "metadata": {},
   "outputs": [
    {
     "data": {
      "text/plain": [
       "(1, 8144)"
      ]
     },
     "execution_count": 65,
     "metadata": {},
     "output_type": "execute_result"
    }
   ],
   "source": [
    "mat['annotations'].shape"
   ]
  },
  {
   "cell_type": "code",
   "execution_count": 66,
   "metadata": {},
   "outputs": [
    {
     "data": {
      "text/plain": [
       "numpy.void"
      ]
     },
     "execution_count": 66,
     "metadata": {},
     "output_type": "execute_result"
    }
   ],
   "source": [
    "type(mat['annotations'][0][0])"
   ]
  },
  {
   "cell_type": "code",
   "execution_count": 67,
   "metadata": {},
   "outputs": [
    {
     "data": {
      "text/plain": [
       "(array([[36]], dtype=uint8), array([[116]], dtype=uint8), array([[868]], dtype=uint16), array([[587]], dtype=uint16), array([[3]], dtype=uint8), array(['00002.jpg'], dtype='<U9'))"
      ]
     },
     "execution_count": 67,
     "metadata": {},
     "output_type": "execute_result"
    }
   ],
   "source": [
    "mat['annotations'][0][1]"
   ]
  },
  {
   "cell_type": "code",
   "execution_count": 73,
   "metadata": {},
   "outputs": [
    {
     "data": {
      "text/plain": [
       "array([[91]], dtype=uint8)"
      ]
     },
     "execution_count": 73,
     "metadata": {},
     "output_type": "execute_result"
    }
   ],
   "source": [
    "mat['annotations'][0][2][4]"
   ]
  },
  {
   "cell_type": "code",
   "execution_count": 83,
   "metadata": {},
   "outputs": [],
   "source": [
    "# Save the label - type of car\n",
    "labels = []\n",
    "for i in range(8144):\n",
    "    labels.append(mat['annotations'][0][i][4][0])"
   ]
  },
  {
   "cell_type": "code",
   "execution_count": 81,
   "metadata": {},
   "outputs": [],
   "source": [
    "from sklearn.preprocessing import MultiLabelBinarizer"
   ]
  },
  {
   "cell_type": "code",
   "execution_count": 84,
   "metadata": {},
   "outputs": [
    {
     "data": {
      "text/plain": [
       "array([[0, 0, 0, ..., 0, 0, 0],\n",
       "       [0, 0, 1, ..., 0, 0, 0],\n",
       "       [0, 0, 0, ..., 0, 0, 0],\n",
       "       ...,\n",
       "       [0, 0, 0, ..., 0, 0, 0],\n",
       "       [0, 0, 0, ..., 0, 0, 0],\n",
       "       [0, 0, 0, ..., 0, 0, 0]])"
      ]
     },
     "execution_count": 84,
     "metadata": {},
     "output_type": "execute_result"
    }
   ],
   "source": [
    "mlb = MultiLabelBinarizer()\n",
    "labels = mlb.fit_transform(labels) #Change labels to one-hot for training"
   ]
  },
  {
   "cell_type": "code",
   "execution_count": 86,
   "metadata": {},
   "outputs": [],
   "source": [
    "#Save labels to disk for ease of use\n",
    "labels = np.array(labels)\n",
    "np.save(\"y.npy\", labels)"
   ]
  },
  {
   "cell_type": "code",
   "execution_count": 120,
   "metadata": {},
   "outputs": [],
   "source": [
    "#Create data folder and subdirectories for each class\n",
    "import os\n",
    "current_directory = os.getcwd()\n",
    "data_directory = os.path.join(current_directory, \"data\")\n",
    "os.mkdir(data_directory)\n",
    "for i in range(len(class_name_list)):\n",
    "    class_directory = os.path.join(data_directory, str(i+1)) #Class metadata range from 1 to 196\n",
    "    os.mkdir(class_directory)"
   ]
  },
  {
   "cell_type": "code",
   "execution_count": 121,
   "metadata": {},
   "outputs": [],
   "source": [
    "import shutil\n",
    "#Move training images to appropriate directories\n",
    "for i in range(8144):\n",
    "    image_src = os.path.join(current_directory, \"cars_train\", \"cars_train\", str(mat['annotations'][0][i][5][0]))\n",
    "    image_dst = os.path.join(data_directory, str(mat['annotations'][0][i][4][0][0]))\n",
    "    shutil.copy(image_src, image_dst)"
   ]
  },
  {
   "cell_type": "code",
   "execution_count": 10,
   "metadata": {},
   "outputs": [
    {
     "name": "stdout",
     "output_type": "stream",
     "text": [
      "89\n"
     ]
    }
   ],
   "source": [
    "print(str(mat['annotations'][0][6][4][0][0]))"
   ]
  },
  {
   "cell_type": "code",
   "execution_count": null,
   "metadata": {},
   "outputs": [],
   "source": []
  }
 ],
 "metadata": {
  "kernelspec": {
   "display_name": "Python 3",
   "language": "python",
   "name": "python3"
  },
  "language_info": {
   "codemirror_mode": {
    "name": "ipython",
    "version": 3
   },
   "file_extension": ".py",
   "mimetype": "text/x-python",
   "name": "python",
   "nbconvert_exporter": "python",
   "pygments_lexer": "ipython3",
   "version": "3.6.8"
  }
 },
 "nbformat": 4,
 "nbformat_minor": 2
}
